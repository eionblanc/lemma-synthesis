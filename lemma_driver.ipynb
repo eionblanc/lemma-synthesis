{
 "cells": [
  {
   "cell_type": "code",
   "execution_count": 1,
   "metadata": {},
   "outputs": [],
   "source": [
    "import lem_syn"
   ]
  },
  {
   "cell_type": "code",
   "execution_count": 2,
   "metadata": {
    "scrolled": true
   },
   "outputs": [],
   "source": [
    "#G = lem_syn.grammar('lem_test.txt')\n",
    "G = lem_syn.grammar('lem_test2.txt')"
   ]
  },
  {
   "cell_type": "code",
   "execution_count": 3,
   "metadata": {},
   "outputs": [],
   "source": [
    "print(G.lemma)"
   ]
  },
  {
   "cell_type": "markdown",
   "metadata": {},
   "source": [
    "---------------------"
   ]
  },
  {
   "cell_type": "markdown",
   "metadata": {},
   "source": [
    "## Applying a model to a grammar"
   ]
  },
  {
   "cell_type": "code",
   "execution_count": 4,
   "metadata": {},
   "outputs": [
    {
     "name": "stdout",
     "output_type": "stream",
     "text": [
      "{'b1': False, 'b2': False, 'b3': False, 'b4': False, 'b5': False, 'b6': False, 'b7': False, 'b8': False, 'b9': False, 'b10': False, 'b11': False, 'b12': True, 'b13': True, 'b14': True, 'b15': False, 'b16': True, 'b17': False, 'b18': False, 'b19': True, 'b20': False, 'b21': False, 'b22': False, 'b23': False, 'b24': False, 'b25': False, 'b26': False, 'b27': False, 'b28': False, 'b29': False, 'b30': False, 'b31': False, 'b32': False, 'b33': False, 'b34': False, 'b35': False, 'b36': False, 'b37': False, 'b38': True, 'b39': False, 'b40': False, 'b41': False, 'b42': False}\n"
     ]
    }
   ],
   "source": [
    "#model = {'b3': True, 'b6': True, 'b2': True, 'b5': True, 'b1': False, 'b4': False}\n",
    "model = {'b{}'.format(i+1): False for i in range(G.bools)}\n",
    "for n in {12, 13, 14, 16, 19, 38}:\n",
    "    model['b{}'.format(n)] = True\n",
    "print(model)"
   ]
  },
  {
   "cell_type": "code",
   "execution_count": 5,
   "metadata": {},
   "outputs": [
    {
     "name": "stdout",
     "output_type": "stream",
     "text": [
      "(ite b1 (B1_1 x y) (=> (B1_2 x y) (= x k)))\n",
      "(=> (bst x) (= x k))\n"
     ]
    }
   ],
   "source": [
    "print(G.lemma)\n",
    "print(G.apply_model(model))"
   ]
  },
  {
   "cell_type": "markdown",
   "metadata": {},
   "source": [
    "----------------------"
   ]
  },
  {
   "cell_type": "markdown",
   "metadata": {},
   "source": [
    "## Editing grammar rules"
   ]
  },
  {
   "cell_type": "code",
   "execution_count": 6,
   "metadata": {},
   "outputs": [
    {
     "name": "stdout",
     "output_type": "stream",
     "text": [
      "Deleted rule: Start to B1\n",
      "Added rule: Start to (and B1 B2)\n"
     ]
    },
    {
     "data": {
      "text/plain": [
       "'(and B1 B2)'"
      ]
     },
     "execution_count": 6,
     "metadata": {},
     "output_type": "execute_result"
    }
   ],
   "source": [
    "G.del_rule('Start',0)\n",
    "G.add_rule('Start','(and B1 B2)')"
   ]
  },
  {
   "cell_type": "code",
   "execution_count": 7,
   "metadata": {},
   "outputs": [
    {
     "data": {
      "text/plain": [
       "'(ite b1 (=> (B1_1 x y) (= x k)) (and (B1_2 x y) (= x k)))'"
      ]
     },
     "execution_count": 7,
     "metadata": {},
     "output_type": "execute_result"
    }
   ],
   "source": [
    "G.lemma"
   ]
  },
  {
   "cell_type": "markdown",
   "metadata": {},
   "source": [
    "----------------------"
   ]
  },
  {
   "cell_type": "markdown",
   "metadata": {},
   "source": [
    "## Selecting a particular rule to enforce"
   ]
  },
  {
   "cell_type": "code",
   "execution_count": 8,
   "metadata": {},
   "outputs": [
    {
     "name": "stdout",
     "output_type": "stream",
     "text": [
      "Enforced rule: Start to (=> B1 B2)\n",
      "Deleted all other rules for symbol Start\n",
      "(=> (B1_1 x y) (= x k))\n"
     ]
    }
   ],
   "source": [
    "G.enf_rule('Start', 0)\n",
    "print(G.lemma)"
   ]
  }
 ],
 "metadata": {
  "kernelspec": {
   "display_name": "Python 3",
   "language": "python",
   "name": "python3"
  },
  "language_info": {
   "codemirror_mode": {
    "name": "ipython",
    "version": 3
   },
   "file_extension": ".py",
   "mimetype": "text/x-python",
   "name": "python",
   "nbconvert_exporter": "python",
   "pygments_lexer": "ipython3",
   "version": "3.8.3"
  }
 },
 "nbformat": 4,
 "nbformat_minor": 4
}
