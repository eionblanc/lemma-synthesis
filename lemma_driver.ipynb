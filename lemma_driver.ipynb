{
 "cells": [
  {
   "cell_type": "code",
   "execution_count": 1,
   "metadata": {},
   "outputs": [],
   "source": [
    "import lem_syn"
   ]
  },
  {
   "cell_type": "code",
   "execution_count": 2,
   "metadata": {
    "scrolled": true
   },
   "outputs": [
    {
     "name": "stdout",
     "output_type": "stream",
     "text": [
      "(declare-const b1 Bool)\n",
      "(declare-const b2 Bool)\n",
      "(declare-const b3 Bool)\n",
      "(declare-const b4 Bool)\n",
      "(declare-const b5 Bool)\n",
      "(declare-const b6 Bool)\n",
      "(declare-const b7 Bool)\n",
      "(declare-const b8 Bool)\n",
      "(declare-const b9 Bool)\n",
      "(declare-const b10 Bool)\n",
      "(declare-const b11 Bool)\n",
      "(declare-const b12 Bool)\n",
      "(declare-const b13 Bool)\n",
      "(declare-const b14 Bool)\n",
      "(declare-const b15 Bool)\n",
      "(declare-const b16 Bool)\n",
      "(declare-const b17 Bool)\n",
      "(declare-const b18 Bool)\n",
      "(declare-const b19 Bool)\n",
      "(declare-const b20 Bool)\n",
      "(declare-const b21 Bool)\n",
      "(declare-const b22 Bool)\n",
      "(declare-const b23 Bool)\n",
      "(declare-const b24 Bool)\n",
      "(declare-const b25 Bool)\n",
      "(declare-const b26 Bool)\n",
      "(declare-const b27 Bool)\n",
      "(declare-const b28 Bool)\n",
      "(declare-const b29 Bool)\n",
      "(declare-const b30 Bool)\n",
      "(declare-const b31 Bool)\n",
      "(declare-const b32 Bool)\n",
      "(declare-const b33 Bool)\n",
      "(declare-const b34 Bool)\n",
      "(declare-const b35 Bool)\n",
      "(declare-const b36 Bool)\n",
      "(declare-const b37 Bool)\n",
      "(declare-const b38 Bool)\n",
      "(declare-const b39 Bool)\n",
      "(declare-const b40 Bool)\n",
      "(declare-const b41 Bool)\n",
      "\n",
      "(define-fun Loc1 ((x Int) (y Int)) Int\n",
      "(ite b12 x (ite b13 y (ite b14 (lft x) (rght x))))\n",
      ")\n",
      "(define-fun Loc2 ((x Int) (y Int)) Int\n",
      "(ite b15 x (ite b16 y (ite b17 (lft x) (rght x))))\n",
      ")\n",
      "(define-fun Loc3 ((x Int) (y Int)) Int\n",
      "(ite b18 x (ite b19 y (ite b20 (lft x) (rght x))))\n",
      ")\n",
      "(define-fun Loc4 ((x Int) (y Int)) Int\n",
      "(ite b21 x (ite b22 y (ite b23 (lft x) (rght x))))\n",
      ")\n",
      "(define-fun Loc5 ((x Int) (y Int)) Int\n",
      "(ite b24 x (ite b25 y (ite b26 (lft x) (rght x))))\n",
      ")\n",
      "(define-fun Loc6 ((x Int) (y Int)) Int\n",
      "(ite b27 x (ite b28 y (ite b29 (lft x) (rght x))))\n",
      ")\n",
      "(define-fun Loc7 ((x Int) (y Int)) Int\n",
      "(ite b30 x (ite b31 y (ite b32 (lft x) (rght x))))\n",
      ")\n",
      "(define-fun Loc8 ((x Int) (y Int)) Int\n",
      "(ite b33 x (ite b34 y (ite b35 (lft x) (rght x))))\n",
      ")\n",
      "(define-fun Loc9 ((x Int) (y Int)) Int\n",
      "(ite b36 x (ite b37 y (ite b38 (lft x) (rght x))))\n",
      ")\n",
      "(define-fun Loc10 ((x Int) (y Int)) Int\n",
      "(ite b39 x (ite b40 y (ite b41 (lft x) (rght x))))\n",
      ")\n",
      "(define-fun I1 ((x Int) (y Int)) Int\n",
      "(ite b4 (minr (Loc3 x y)) (ite b5 (maxr (Loc4 x y)) k))\n",
      ")\n",
      "(define-fun I2 ((x Int) (y Int)) Int\n",
      "(ite b6 (minr (Loc5 x y)) (ite b7 (maxr (Loc6 x y)) k))\n",
      ")\n",
      "(define-fun I3 ((x Int) (y Int)) Int\n",
      "(ite b8 (minr (Loc7 x y)) (ite b9 (maxr (Loc8 x y)) k))\n",
      ")\n",
      "(define-fun I4 ((x Int) (y Int)) Int\n",
      "(ite b10 (minr (Loc9 x y)) (ite b11 (maxr (Loc10 x y)) k))\n",
      ")\n",
      "(define-fun B1_1 ((x Int) (y Int)) Bool\n",
      "(ite b2 (<= (I1 x y) (I2 x y)) (bst (Loc1 x y)))\n",
      ")\n",
      "(define-fun B1_2 ((x Int) (y Int)) Bool\n",
      "(ite b3 (<= (I3 x y) (I4 x y)) (bst (Loc2 x y)))\n",
      ")\n",
      "\n",
      "(define-fun lemma ((x Int) (y Int)) Bool\n",
      "(ite b1\n",
      "     (B1_1 x y)\n",
      "     (=> (B1_2 x y)\n",
      "         (= x k)))\n",
      ")\n"
     ]
    }
   ],
   "source": [
    "#G = lem_syn.grammar('lem_test.txt')\n",
    "G = lem_syn.grammar('lem_test2.txt')"
   ]
  },
  {
   "cell_type": "code",
   "execution_count": 3,
   "metadata": {},
   "outputs": [
    {
     "name": "stdout",
     "output_type": "stream",
     "text": [
      "(ite b1 (B1_1 x y) (=> (B1_2 x y) (= x k)))\n"
     ]
    }
   ],
   "source": [
    "print(G.lemma)"
   ]
  },
  {
   "cell_type": "markdown",
   "metadata": {},
   "source": [
    "---------------------"
   ]
  },
  {
   "cell_type": "markdown",
   "metadata": {},
   "source": [
    "## Applying a model to a grammar"
   ]
  },
  {
   "cell_type": "code",
   "execution_count": 4,
   "metadata": {},
   "outputs": [
    {
     "name": "stdout",
     "output_type": "stream",
     "text": [
      "{'b1': False, 'b2': False, 'b3': False, 'b4': False, 'b5': False, 'b6': False, 'b7': False, 'b8': False, 'b9': False, 'b10': False, 'b11': False, 'b12': True, 'b13': True, 'b14': True, 'b15': False, 'b16': True, 'b17': False, 'b18': False, 'b19': True, 'b20': False, 'b21': False, 'b22': False, 'b23': False, 'b24': False, 'b25': False, 'b26': False, 'b27': False, 'b28': False, 'b29': False, 'b30': False, 'b31': False, 'b32': False, 'b33': False, 'b34': False, 'b35': False, 'b36': False, 'b37': False, 'b38': True, 'b39': False, 'b40': False, 'b41': False, 'b42': False}\n"
     ]
    }
   ],
   "source": [
    "#model = {'b3': True, 'b6': True, 'b2': True, 'b5': True, 'b1': False, 'b4': False}\n",
    "model = {'b{}'.format(i+1): False for i in range(G.bools)}\n",
    "for n in {12, 13, 14, 16, 19, 38}:\n",
    "    model['b{}'.format(n)] = True\n",
    "print(model)"
   ]
  },
  {
   "cell_type": "code",
   "execution_count": 5,
   "metadata": {},
   "outputs": [
    {
     "name": "stdout",
     "output_type": "stream",
     "text": [
      "(ite b1 (B1_1 x y) (=> (B1_2 x y) (= x k)))\n",
      "(=> (bst x) (= x k))\n"
     ]
    }
   ],
   "source": [
    "print(G.lemma)\n",
    "print(G.apply_model(model))"
   ]
  },
  {
   "cell_type": "markdown",
   "metadata": {},
   "source": [
    "----------------------"
   ]
  },
  {
   "cell_type": "markdown",
   "metadata": {},
   "source": [
    "## Editing grammar rules"
   ]
  },
  {
   "cell_type": "code",
   "execution_count": 6,
   "metadata": {},
   "outputs": [
    {
     "name": "stdout",
     "output_type": "stream",
     "text": [
      "Deleted rule: Start to B1\n",
      "Added rule: Start to (and B1 B2)\n"
     ]
    },
    {
     "data": {
      "text/plain": [
       "'(and B1 B2)'"
      ]
     },
     "execution_count": 6,
     "metadata": {},
     "output_type": "execute_result"
    }
   ],
   "source": [
    "G.del_rule('Start',0)\n",
    "G.add_rule('Start','(and B1 B2)')"
   ]
  },
  {
   "cell_type": "code",
   "execution_count": 7,
   "metadata": {},
   "outputs": [
    {
     "data": {
      "text/plain": [
       "'(ite b1 (=> (B1_1 x y) (= x k)) (and (B1_2 x y) (= x k)))'"
      ]
     },
     "execution_count": 7,
     "metadata": {},
     "output_type": "execute_result"
    }
   ],
   "source": [
    "G.lemma"
   ]
  },
  {
   "cell_type": "code",
   "execution_count": null,
   "metadata": {},
   "outputs": [],
   "source": []
  }
 ],
 "metadata": {
  "kernelspec": {
   "display_name": "Python 3",
   "language": "python",
   "name": "python3"
  },
  "language_info": {
   "codemirror_mode": {
    "name": "ipython",
    "version": 3
   },
   "file_extension": ".py",
   "mimetype": "text/x-python",
   "name": "python",
   "nbconvert_exporter": "python",
   "pygments_lexer": "ipython3",
   "version": "3.8.3"
  }
 },
 "nbformat": 4,
 "nbformat_minor": 4
}
